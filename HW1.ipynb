{
 "cells": [
  {
   "cell_type": "code",
   "execution_count": 1,
   "id": "23af371e",
   "metadata": {},
   "outputs": [],
   "source": [
    "import pandas as pd\n",
    "import numpy as np\n",
    "from scipy import stats\n",
    "import statsmodels.stats.api as sms\n",
    "from math import ceil\n",
    "from sklearn.utils import resample"
   ]
  },
  {
   "cell_type": "code",
   "execution_count": 2,
   "id": "187b7b68",
   "metadata": {},
   "outputs": [],
   "source": [
    "df = pd.read_csv(\"AB_test_data.csv\")"
   ]
  },
  {
   "cell_type": "code",
   "execution_count": 3,
   "id": "855fe455",
   "metadata": {},
   "outputs": [
    {
     "data": {
      "text/html": [
       "<div>\n",
       "<style scoped>\n",
       "    .dataframe tbody tr th:only-of-type {\n",
       "        vertical-align: middle;\n",
       "    }\n",
       "\n",
       "    .dataframe tbody tr th {\n",
       "        vertical-align: top;\n",
       "    }\n",
       "\n",
       "    .dataframe thead th {\n",
       "        text-align: right;\n",
       "    }\n",
       "</style>\n",
       "<table border=\"1\" class=\"dataframe\">\n",
       "  <thead>\n",
       "    <tr style=\"text-align: right;\">\n",
       "      <th></th>\n",
       "      <th>purchase_TF</th>\n",
       "      <th>Variant</th>\n",
       "      <th>date</th>\n",
       "      <th>id</th>\n",
       "    </tr>\n",
       "  </thead>\n",
       "  <tbody>\n",
       "    <tr>\n",
       "      <th>0</th>\n",
       "      <td>0</td>\n",
       "      <td>A</td>\n",
       "      <td>2019-11-08</td>\n",
       "      <td>0x25b44a</td>\n",
       "    </tr>\n",
       "    <tr>\n",
       "      <th>1</th>\n",
       "      <td>0</td>\n",
       "      <td>B</td>\n",
       "      <td>2020-08-27</td>\n",
       "      <td>0x46271e</td>\n",
       "    </tr>\n",
       "    <tr>\n",
       "      <th>2</th>\n",
       "      <td>0</td>\n",
       "      <td>A</td>\n",
       "      <td>2020-06-11</td>\n",
       "      <td>0x80b8f1</td>\n",
       "    </tr>\n",
       "    <tr>\n",
       "      <th>3</th>\n",
       "      <td>0</td>\n",
       "      <td>B</td>\n",
       "      <td>2020-08-22</td>\n",
       "      <td>0x8d736d</td>\n",
       "    </tr>\n",
       "    <tr>\n",
       "      <th>4</th>\n",
       "      <td>0</td>\n",
       "      <td>A</td>\n",
       "      <td>2020-08-05</td>\n",
       "      <td>0x96c9c8</td>\n",
       "    </tr>\n",
       "    <tr>\n",
       "      <th>...</th>\n",
       "      <td>...</td>\n",
       "      <td>...</td>\n",
       "      <td>...</td>\n",
       "      <td>...</td>\n",
       "    </tr>\n",
       "    <tr>\n",
       "      <th>129995</th>\n",
       "      <td>0</td>\n",
       "      <td>A</td>\n",
       "      <td>2020-07-23</td>\n",
       "      <td>0x4089c2</td>\n",
       "    </tr>\n",
       "    <tr>\n",
       "      <th>129996</th>\n",
       "      <td>0</td>\n",
       "      <td>A</td>\n",
       "      <td>2020-06-24</td>\n",
       "      <td>0x6a5e3a</td>\n",
       "    </tr>\n",
       "    <tr>\n",
       "      <th>129997</th>\n",
       "      <td>0</td>\n",
       "      <td>A</td>\n",
       "      <td>2019-10-12</td>\n",
       "      <td>0x95e302</td>\n",
       "    </tr>\n",
       "    <tr>\n",
       "      <th>129998</th>\n",
       "      <td>0</td>\n",
       "      <td>A</td>\n",
       "      <td>2020-03-18</td>\n",
       "      <td>0x7c4afa</td>\n",
       "    </tr>\n",
       "    <tr>\n",
       "      <th>129999</th>\n",
       "      <td>0</td>\n",
       "      <td>A</td>\n",
       "      <td>2019-12-09</td>\n",
       "      <td>0x380071</td>\n",
       "    </tr>\n",
       "  </tbody>\n",
       "</table>\n",
       "<p>130000 rows × 4 columns</p>\n",
       "</div>"
      ],
      "text/plain": [
       "        purchase_TF Variant        date        id\n",
       "0                 0       A  2019-11-08  0x25b44a\n",
       "1                 0       B  2020-08-27  0x46271e\n",
       "2                 0       A  2020-06-11  0x80b8f1\n",
       "3                 0       B  2020-08-22  0x8d736d\n",
       "4                 0       A  2020-08-05  0x96c9c8\n",
       "...             ...     ...         ...       ...\n",
       "129995            0       A  2020-07-23  0x4089c2\n",
       "129996            0       A  2020-06-24  0x6a5e3a\n",
       "129997            0       A  2019-10-12  0x95e302\n",
       "129998            0       A  2020-03-18  0x7c4afa\n",
       "129999            0       A  2019-12-09  0x380071\n",
       "\n",
       "[130000 rows x 4 columns]"
      ]
     },
     "execution_count": 3,
     "metadata": {},
     "output_type": "execute_result"
    }
   ],
   "source": [
    "df[\"purchase_TF\"] = df[\"purchase_TF\"].astype(int)\n",
    "df"
   ]
  },
  {
   "cell_type": "code",
   "execution_count": 4,
   "id": "88ac965d",
   "metadata": {},
   "outputs": [
    {
     "data": {
      "text/html": [
       "<div>\n",
       "<style scoped>\n",
       "    .dataframe tbody tr th:only-of-type {\n",
       "        vertical-align: middle;\n",
       "    }\n",
       "\n",
       "    .dataframe tbody tr th {\n",
       "        vertical-align: top;\n",
       "    }\n",
       "\n",
       "    .dataframe thead th {\n",
       "        text-align: right;\n",
       "    }\n",
       "</style>\n",
       "<table border=\"1\" class=\"dataframe\">\n",
       "  <thead>\n",
       "    <tr style=\"text-align: right;\">\n",
       "      <th></th>\n",
       "      <th>purchase_TF</th>\n",
       "      <th>Variant</th>\n",
       "      <th>date</th>\n",
       "      <th>id</th>\n",
       "    </tr>\n",
       "  </thead>\n",
       "  <tbody>\n",
       "    <tr>\n",
       "      <th>0</th>\n",
       "      <td>0</td>\n",
       "      <td>A</td>\n",
       "      <td>2019-11-08</td>\n",
       "      <td>0x25b44a</td>\n",
       "    </tr>\n",
       "    <tr>\n",
       "      <th>2</th>\n",
       "      <td>0</td>\n",
       "      <td>A</td>\n",
       "      <td>2020-06-11</td>\n",
       "      <td>0x80b8f1</td>\n",
       "    </tr>\n",
       "    <tr>\n",
       "      <th>4</th>\n",
       "      <td>0</td>\n",
       "      <td>A</td>\n",
       "      <td>2020-08-05</td>\n",
       "      <td>0x96c9c8</td>\n",
       "    </tr>\n",
       "    <tr>\n",
       "      <th>5</th>\n",
       "      <td>0</td>\n",
       "      <td>A</td>\n",
       "      <td>2020-03-10</td>\n",
       "      <td>0x751c24</td>\n",
       "    </tr>\n",
       "    <tr>\n",
       "      <th>6</th>\n",
       "      <td>0</td>\n",
       "      <td>A</td>\n",
       "      <td>2019-11-05</td>\n",
       "      <td>0x60d2bd</td>\n",
       "    </tr>\n",
       "    <tr>\n",
       "      <th>...</th>\n",
       "      <td>...</td>\n",
       "      <td>...</td>\n",
       "      <td>...</td>\n",
       "      <td>...</td>\n",
       "    </tr>\n",
       "    <tr>\n",
       "      <th>129995</th>\n",
       "      <td>0</td>\n",
       "      <td>A</td>\n",
       "      <td>2020-07-23</td>\n",
       "      <td>0x4089c2</td>\n",
       "    </tr>\n",
       "    <tr>\n",
       "      <th>129996</th>\n",
       "      <td>0</td>\n",
       "      <td>A</td>\n",
       "      <td>2020-06-24</td>\n",
       "      <td>0x6a5e3a</td>\n",
       "    </tr>\n",
       "    <tr>\n",
       "      <th>129997</th>\n",
       "      <td>0</td>\n",
       "      <td>A</td>\n",
       "      <td>2019-10-12</td>\n",
       "      <td>0x95e302</td>\n",
       "    </tr>\n",
       "    <tr>\n",
       "      <th>129998</th>\n",
       "      <td>0</td>\n",
       "      <td>A</td>\n",
       "      <td>2020-03-18</td>\n",
       "      <td>0x7c4afa</td>\n",
       "    </tr>\n",
       "    <tr>\n",
       "      <th>129999</th>\n",
       "      <td>0</td>\n",
       "      <td>A</td>\n",
       "      <td>2019-12-09</td>\n",
       "      <td>0x380071</td>\n",
       "    </tr>\n",
       "  </tbody>\n",
       "</table>\n",
       "<p>125000 rows × 4 columns</p>\n",
       "</div>"
      ],
      "text/plain": [
       "        purchase_TF Variant        date        id\n",
       "0                 0       A  2019-11-08  0x25b44a\n",
       "2                 0       A  2020-06-11  0x80b8f1\n",
       "4                 0       A  2020-08-05  0x96c9c8\n",
       "5                 0       A  2020-03-10  0x751c24\n",
       "6                 0       A  2019-11-05  0x60d2bd\n",
       "...             ...     ...         ...       ...\n",
       "129995            0       A  2020-07-23  0x4089c2\n",
       "129996            0       A  2020-06-24  0x6a5e3a\n",
       "129997            0       A  2019-10-12  0x95e302\n",
       "129998            0       A  2020-03-18  0x7c4afa\n",
       "129999            0       A  2019-12-09  0x380071\n",
       "\n",
       "[125000 rows x 4 columns]"
      ]
     },
     "execution_count": 4,
     "metadata": {},
     "output_type": "execute_result"
    }
   ],
   "source": [
    "df_A = df[df[\"Variant\"] == \"A\"]\n",
    "df_A"
   ]
  },
  {
   "cell_type": "code",
   "execution_count": 5,
   "id": "697d3405",
   "metadata": {},
   "outputs": [
    {
     "data": {
      "text/html": [
       "<div>\n",
       "<style scoped>\n",
       "    .dataframe tbody tr th:only-of-type {\n",
       "        vertical-align: middle;\n",
       "    }\n",
       "\n",
       "    .dataframe tbody tr th {\n",
       "        vertical-align: top;\n",
       "    }\n",
       "\n",
       "    .dataframe thead th {\n",
       "        text-align: right;\n",
       "    }\n",
       "</style>\n",
       "<table border=\"1\" class=\"dataframe\">\n",
       "  <thead>\n",
       "    <tr style=\"text-align: right;\">\n",
       "      <th></th>\n",
       "      <th>purchase_TF</th>\n",
       "      <th>Variant</th>\n",
       "      <th>date</th>\n",
       "      <th>id</th>\n",
       "    </tr>\n",
       "  </thead>\n",
       "  <tbody>\n",
       "    <tr>\n",
       "      <th>1</th>\n",
       "      <td>0</td>\n",
       "      <td>B</td>\n",
       "      <td>2020-08-27</td>\n",
       "      <td>0x46271e</td>\n",
       "    </tr>\n",
       "    <tr>\n",
       "      <th>3</th>\n",
       "      <td>0</td>\n",
       "      <td>B</td>\n",
       "      <td>2020-08-22</td>\n",
       "      <td>0x8d736d</td>\n",
       "    </tr>\n",
       "    <tr>\n",
       "      <th>59</th>\n",
       "      <td>0</td>\n",
       "      <td>B</td>\n",
       "      <td>2020-08-19</td>\n",
       "      <td>0x3ff83f</td>\n",
       "    </tr>\n",
       "    <tr>\n",
       "      <th>74</th>\n",
       "      <td>0</td>\n",
       "      <td>B</td>\n",
       "      <td>2020-08-10</td>\n",
       "      <td>0x138d19</td>\n",
       "    </tr>\n",
       "    <tr>\n",
       "      <th>103</th>\n",
       "      <td>0</td>\n",
       "      <td>B</td>\n",
       "      <td>2020-08-04</td>\n",
       "      <td>0x966e6a</td>\n",
       "    </tr>\n",
       "    <tr>\n",
       "      <th>...</th>\n",
       "      <td>...</td>\n",
       "      <td>...</td>\n",
       "      <td>...</td>\n",
       "      <td>...</td>\n",
       "    </tr>\n",
       "    <tr>\n",
       "      <th>129805</th>\n",
       "      <td>0</td>\n",
       "      <td>B</td>\n",
       "      <td>2020-08-27</td>\n",
       "      <td>0x7d95d0</td>\n",
       "    </tr>\n",
       "    <tr>\n",
       "      <th>129827</th>\n",
       "      <td>0</td>\n",
       "      <td>B</td>\n",
       "      <td>2020-08-10</td>\n",
       "      <td>0x38a6e8</td>\n",
       "    </tr>\n",
       "    <tr>\n",
       "      <th>129879</th>\n",
       "      <td>0</td>\n",
       "      <td>B</td>\n",
       "      <td>2020-08-30</td>\n",
       "      <td>0x6a711a</td>\n",
       "    </tr>\n",
       "    <tr>\n",
       "      <th>129910</th>\n",
       "      <td>0</td>\n",
       "      <td>B</td>\n",
       "      <td>2020-08-13</td>\n",
       "      <td>0x13175a</td>\n",
       "    </tr>\n",
       "    <tr>\n",
       "      <th>129960</th>\n",
       "      <td>0</td>\n",
       "      <td>B</td>\n",
       "      <td>2020-08-02</td>\n",
       "      <td>0x8d0674</td>\n",
       "    </tr>\n",
       "  </tbody>\n",
       "</table>\n",
       "<p>5000 rows × 4 columns</p>\n",
       "</div>"
      ],
      "text/plain": [
       "        purchase_TF Variant        date        id\n",
       "1                 0       B  2020-08-27  0x46271e\n",
       "3                 0       B  2020-08-22  0x8d736d\n",
       "59                0       B  2020-08-19  0x3ff83f\n",
       "74                0       B  2020-08-10  0x138d19\n",
       "103               0       B  2020-08-04  0x966e6a\n",
       "...             ...     ...         ...       ...\n",
       "129805            0       B  2020-08-27  0x7d95d0\n",
       "129827            0       B  2020-08-10  0x38a6e8\n",
       "129879            0       B  2020-08-30  0x6a711a\n",
       "129910            0       B  2020-08-13  0x13175a\n",
       "129960            0       B  2020-08-02  0x8d0674\n",
       "\n",
       "[5000 rows x 4 columns]"
      ]
     },
     "execution_count": 5,
     "metadata": {},
     "output_type": "execute_result"
    }
   ],
   "source": [
    "df_B = df[df[\"Variant\"] == \"B\"]\n",
    "df_B"
   ]
  },
  {
   "cell_type": "code",
   "execution_count": 6,
   "id": "2a0c8661",
   "metadata": {},
   "outputs": [
    {
     "name": "stdout",
     "output_type": "stream",
     "text": [
      "purchase_TF    0.149616\n",
      "dtype: float64\n",
      "purchase_TF    0.1766\n",
      "dtype: float64\n"
     ]
    }
   ],
   "source": [
    "mean_a = df_A.mean()\n",
    "mean_b = df_B.mean()\n",
    "print(mean_a)\n",
    "print(mean_b)"
   ]
  },
  {
   "cell_type": "markdown",
   "id": "4a1de91d",
   "metadata": {},
   "source": [
    "# Q1"
   ]
  },
  {
   "cell_type": "markdown",
   "id": "8dc6b064",
   "metadata": {},
   "source": [
    "Ho: mean_b - mean_a = 0\\\n",
    "Ha: mean_b - mean_a > 0\\\n",
    "one-tail test"
   ]
  },
  {
   "cell_type": "code",
   "execution_count": 7,
   "id": "0ecd9530",
   "metadata": {},
   "outputs": [],
   "source": [
    "sample_size = 2500"
   ]
  },
  {
   "cell_type": "code",
   "execution_count": 8,
   "id": "6dfd6c8e",
   "metadata": {},
   "outputs": [],
   "source": [
    "np.random.seed(seed=3)\n",
    "# create a sample of 50 sample_A & sample_B\n",
    "sample_A = resample(df_A, n_samples=sample_size, replace=False)\n",
    "sample_B = resample(df_B, n_samples=sample_size, replace=False)"
   ]
  },
  {
   "cell_type": "code",
   "execution_count": 9,
   "id": "3c7df584",
   "metadata": {},
   "outputs": [
    {
     "data": {
      "text/plain": [
       "purchase_TF    0.0128\n",
       "dtype: float64"
      ]
     },
     "execution_count": 9,
     "metadata": {},
     "output_type": "execute_result"
    }
   ],
   "source": [
    "mean_difference = sample_B.mean()-sample_A.mean()\n",
    "mean_difference"
   ]
  },
  {
   "cell_type": "code",
   "execution_count": 10,
   "id": "6fc4c2fb",
   "metadata": {},
   "outputs": [
    {
     "data": {
      "text/plain": [
       "purchase_TF    0.1564\n",
       "dtype: float64"
      ]
     },
     "execution_count": 10,
     "metadata": {},
     "output_type": "execute_result"
    }
   ],
   "source": [
    "sample_A.mean()"
   ]
  },
  {
   "cell_type": "code",
   "execution_count": 11,
   "id": "b95a6673",
   "metadata": {},
   "outputs": [
    {
     "data": {
      "text/plain": [
       "purchase_TF    0.1692\n",
       "dtype: float64"
      ]
     },
     "execution_count": 11,
     "metadata": {},
     "output_type": "execute_result"
    }
   ],
   "source": [
    "sample_B.mean()"
   ]
  },
  {
   "cell_type": "code",
   "execution_count": 12,
   "id": "30a5ba43",
   "metadata": {},
   "outputs": [
    {
     "data": {
      "text/plain": [
       "purchase_TF    0.007266\n",
       "dtype: float64"
      ]
     },
     "execution_count": 12,
     "metadata": {},
     "output_type": "execute_result"
    }
   ],
   "source": [
    "se_A = sample_A.std()/(sample_size**0.5)\n",
    "se_A"
   ]
  },
  {
   "cell_type": "code",
   "execution_count": 13,
   "id": "9ad4ab7e",
   "metadata": {},
   "outputs": [
    {
     "data": {
      "text/plain": [
       "1.6448536269514722"
      ]
     },
     "execution_count": 13,
     "metadata": {},
     "output_type": "execute_result"
    }
   ],
   "source": [
    "z_a2=stats.norm.ppf(q= 0.95,  #q=0.975/0.995 => 90%/ 95%/ 99% confidence interval\n",
    "               loc = 0,               \n",
    "               scale= 1)  \n",
    "z_a2"
   ]
  },
  {
   "cell_type": "code",
   "execution_count": 14,
   "id": "5e4e6869",
   "metadata": {},
   "outputs": [
    {
     "data": {
      "text/plain": [
       "purchase_TF    1.761596\n",
       "dtype: float64"
      ]
     },
     "execution_count": 14,
     "metadata": {},
     "output_type": "execute_result"
    }
   ],
   "source": [
    "z = mean_difference/se_A\n",
    "z"
   ]
  },
  {
   "cell_type": "markdown",
   "id": "b1f286b9",
   "metadata": {},
   "source": [
    "Since z > z_a2, we are able to reject the null hypothesis with 95% statistical significance that Alternative B improved conversion rates over Alternative A."
   ]
  },
  {
   "cell_type": "markdown",
   "id": "df365715",
   "metadata": {},
   "source": [
    "# Q2"
   ]
  },
  {
   "cell_type": "code",
   "execution_count": 15,
   "id": "c6a60373",
   "metadata": {},
   "outputs": [
    {
     "data": {
      "text/plain": [
       "purchase_TF    0.008827\n",
       "dtype: float64"
      ]
     },
     "execution_count": 15,
     "metadata": {},
     "output_type": "execute_result"
    }
   ],
   "source": [
    "se = ((sample_A.std()/df_A.shape[0]) + (sample_B.std()/df_B.shape[0]))**0.5\n",
    "se\n"
   ]
  },
  {
   "cell_type": "code",
   "execution_count": 16,
   "id": "5797b492",
   "metadata": {},
   "outputs": [],
   "source": [
    "mean_a = df[df.Variant == 'A'].purchase_TF.mean()\n",
    "mean_b = df[df.Variant == 'B'].purchase_TF.mean()"
   ]
  },
  {
   "cell_type": "code",
   "execution_count": 17,
   "id": "f5293644",
   "metadata": {},
   "outputs": [
    {
     "name": "stdout",
     "output_type": "stream",
     "text": [
      "0.149616\n",
      "0.1766\n"
     ]
    }
   ],
   "source": [
    "print(mean_a)\n",
    "print(mean_b)"
   ]
  },
  {
   "cell_type": "code",
   "execution_count": 18,
   "id": "49b60e60",
   "metadata": {},
   "outputs": [],
   "source": [
    "import scipy.stats as scs\n",
    "\n",
    "def min_sample_size(bcr, mde, power=0.8, sig_level=0.05):\n",
    "    standard_norm = scs.norm(0, 1)\n",
    "\n",
    "    # find Z_beta from desired power\n",
    "    Z_beta = standard_norm.ppf(power)\n",
    "\n",
    "    # find Z_alpha\n",
    "    Z_alpha = standard_norm.ppf(1-sig_level/2)\n",
    "\n",
    "    # average of probabilities from both groups\n",
    "    pooled_prob = (bcr + bcr + mde) / 2\n",
    "\n",
    "    min_N = (2 * pooled_prob * (1 - pooled_prob) * (Z_beta + Z_alpha)**2\n",
    "             / mde**2)\n",
    "\n",
    "    return min_N"
   ]
  },
  {
   "cell_type": "code",
   "execution_count": 19,
   "id": "8e9ed73b",
   "metadata": {},
   "outputs": [
    {
     "name": "stdout",
     "output_type": "stream",
     "text": [
      "2536\n"
     ]
    }
   ],
   "source": [
    "optimal_n = min_sample_size(mean_a, mean_a-mean_b, power=0.8, sig_level=0.05)\n",
    "optimal_n = ceil(optimal_n)\n",
    "print(optimal_n)"
   ]
  },
  {
   "cell_type": "markdown",
   "id": "14aef4c2",
   "metadata": {},
   "source": [
    "## find optimal size by sms for validation"
   ]
  },
  {
   "cell_type": "code",
   "execution_count": 20,
   "id": "f9e9b210",
   "metadata": {},
   "outputs": [
    {
     "name": "stdout",
     "output_type": "stream",
     "text": [
      "2939\n"
     ]
    }
   ],
   "source": [
    "effect_size = sms.proportion_effectsize(mean_a, mean_b)    # Calculating effect size based on our expected rates\n",
    "required_n = sms.NormalIndPower().solve_power(\n",
    "    effect_size, \n",
    "    power=0.8, \n",
    "    alpha=0.05, \n",
    "    ratio=1\n",
    "    )                                                  # Calculating sample size needed\n",
    "\n",
    "required_n = ceil(required_n)                          # Rounding up to next whole number                          \n",
    "\n",
    "print(required_n)\n"
   ]
  },
  {
   "cell_type": "markdown",
   "id": "9e07d81a",
   "metadata": {},
   "source": [
    "## checking for 10 samples"
   ]
  },
  {
   "cell_type": "code",
   "execution_count": 21,
   "id": "ea18ce65",
   "metadata": {},
   "outputs": [
    {
     "data": {
      "text/plain": [
       "purchase_TF    0.149616\n",
       "dtype: float64"
      ]
     },
     "execution_count": 21,
     "metadata": {},
     "output_type": "execute_result"
    }
   ],
   "source": [
    "i=0\n",
    "mean_a = df[df[\"Variant\"]==\"A\"].mean()\n",
    "mean_a"
   ]
  },
  {
   "cell_type": "code",
   "execution_count": 22,
   "id": "bb5e8b31",
   "metadata": {},
   "outputs": [
    {
     "name": "stdout",
     "output_type": "stream",
     "text": [
      "sample 1 : purchase_TF    False\n",
      "dtype: bool\n",
      "sample 2 : purchase_TF    True\n",
      "dtype: bool\n",
      "sample 3 : purchase_TF    True\n",
      "dtype: bool\n",
      "sample 4 : purchase_TF    True\n",
      "dtype: bool\n",
      "sample 5 : purchase_TF    True\n",
      "dtype: bool\n",
      "sample 6 : purchase_TF    True\n",
      "dtype: bool\n",
      "sample 7 : purchase_TF    True\n",
      "dtype: bool\n",
      "sample 8 : purchase_TF    True\n",
      "dtype: bool\n",
      "sample 9 : purchase_TF    False\n",
      "dtype: bool\n",
      "sample 10 : purchase_TF    False\n",
      "dtype: bool\n"
     ]
    }
   ],
   "source": [
    "for i in range(10):\n",
    "    np.random.seed(seed=i+1)\n",
    "    sample_size = optimal_n\n",
    "    sample = resample(df, n_samples=sample_size, replace=False)\n",
    "    mean_a = sample[sample[\"Variant\"]==\"A\"].mean()\n",
    "    mean_b = sample[sample[\"Variant\"]==\"B\"].mean()\n",
    "    mean_difference = mean_b - mean_a\n",
    "    correct = (mean_difference/se_A) > z_a2\n",
    "    print(\"sample\",i+1,\":\", correct)\n",
    "    i=i+1"
   ]
  },
  {
   "cell_type": "markdown",
   "id": "adc75e99",
   "metadata": {},
   "source": [
    "# Q3"
   ]
  },
  {
   "cell_type": "code",
   "execution_count": 23,
   "id": "f7ee5790",
   "metadata": {},
   "outputs": [],
   "source": [
    "alpha = 0.05\n",
    "beta = 0.2\n",
    "boundary_A = np.log(1/alpha)\n",
    "boundary_B = np.log(beta)"
   ]
  },
  {
   "cell_type": "code",
   "execution_count": 24,
   "id": "5d2158c7",
   "metadata": {},
   "outputs": [
    {
     "name": "stdout",
     "output_type": "stream",
     "text": [
      "downward decision: 441 steps (S=-1.609878)\n",
      "downward decision: 212 steps (S=-1.620257)\n",
      "downward decision: 355 steps (S=-1.636814)\n",
      "downward decision: 615 steps (S=-1.626950)\n",
      "downward decision: 194 steps (S=-1.641231)\n",
      "downward decision: 1947 steps (S=-1.613614)\n",
      "downward decision: 751 steps (S=-1.615026)\n",
      "downward decision: 212 steps (S=-1.620257)\n",
      "downward decision: 441 steps (S=-1.609878)\n",
      "downward decision: 522 steps (S=-1.625405)\n",
      "[441, 212, 355, 615, 194, 1947, 751, 212, 441, 522]\n"
     ]
    },
    {
     "data": {
      "text/plain": [
       "569.0"
      ]
     },
     "execution_count": 24,
     "metadata": {},
     "output_type": "execute_result"
    }
   ],
   "source": [
    "ll=[0]\n",
    "S=[0]\n",
    "avg = []\n",
    "for i in range(10):\n",
    "    np.random.seed(seed=i+1)\n",
    "    sample_size = optimal_n\n",
    "    sample = resample(df, n_samples=optimal_n, replace=False)\n",
    "    data = sample.purchase_TF.to_list()\n",
    "    mean_a = 0.146869\n",
    "    mean_b = 0.1766\n",
    "    #mean_a = sample[sample[\"Variant\"]==\"A\"].mean()\n",
    "    #mean_b = sample[sample[\"Variant\"]==\"B\"].mean()\n",
    "    #for i in mean_a:\n",
    "    #    a = i\n",
    "    #for j in mean_b:\n",
    "    #    b = j\n",
    "    for i in range(len(data)):\n",
    "        if data[i] == 1:\n",
    "            log_ratio = np.log(mean_b) - np.log(mean_a)\n",
    "        else:\n",
    "            log_ratio = np.log(1-mean_b) - np.log(1-mean_a)\n",
    "        ll.append(log_ratio)\n",
    "        S=np.sum(ll)\n",
    "        if S>boundary_A:\n",
    "            print('upward decision: %d steps (S=%f)'%(i,S))\n",
    "            break\n",
    "        elif S<boundary_B:\n",
    "            print('downward decision: %d steps (S=%f)'%(i,S))\n",
    "            break\n",
    "    avg.append(i)\n",
    "    ll=[0]\n",
    "    S=[0]\n",
    "print(avg)\n",
    "mean_step = sum(avg)/len(avg)\n",
    "mean_step"
   ]
  },
  {
   "cell_type": "code",
   "execution_count": 25,
   "id": "70d38313",
   "metadata": {},
   "outputs": [
    {
     "data": {
      "text/plain": [
       "569.0"
      ]
     },
     "execution_count": 25,
     "metadata": {},
     "output_type": "execute_result"
    }
   ],
   "source": [
    "step_list = [441,212,355,615,194,1947,751,212,441,522]\n",
    "from numpy import *\n",
    "mean_step = mean(step_list)\n",
    "mean_step"
   ]
  }
 ],
 "metadata": {
  "kernelspec": {
   "display_name": "Python 3",
   "language": "python",
   "name": "python3"
  },
  "language_info": {
   "codemirror_mode": {
    "name": "ipython",
    "version": 3
   },
   "file_extension": ".py",
   "mimetype": "text/x-python",
   "name": "python",
   "nbconvert_exporter": "python",
   "pygments_lexer": "ipython3",
   "version": "3.8.8"
  }
 },
 "nbformat": 4,
 "nbformat_minor": 5
}
